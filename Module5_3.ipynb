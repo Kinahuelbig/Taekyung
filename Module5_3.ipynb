{
  "nbformat": 4,
  "nbformat_minor": 0,
  "metadata": {
    "colab": {
      "name": "Module5-3",
      "provenance": [],
      "authorship_tag": "ABX9TyPgcOIz6KMM/q2ktj3OyAJG",
      "include_colab_link": true
    },
    "kernelspec": {
      "name": "python3",
      "display_name": "Python 3"
    }
  },
  "cells": [
    {
      "cell_type": "markdown",
      "metadata": {
        "id": "view-in-github",
        "colab_type": "text"
      },
      "source": [
        "<a href=\"https://colab.research.google.com/github/Kinahuelbig/Taekyung/blob/master/Module5_3.ipynb\" target=\"_parent\"><img src=\"https://colab.research.google.com/assets/colab-badge.svg\" alt=\"Open In Colab\"/></a>"
      ]
    },
    {
      "cell_type": "code",
      "metadata": {
        "id": "1vCgukn_TZdk",
        "colab_type": "code",
        "colab": {}
      },
      "source": [
        "import urllib3\n",
        "\n",
        "http = urllib3.PoolManager()\n",
        "r = http.request('GET', 'https://api.harvardartmuseums.org/person',\n",
        "                 fields = {\n",
        "                     'apikey':'c6117520-8a49-11ea-86ad-d3bd773874ab',\n",
        "                     'fields': 'name,birthplace',\n",
        "                     'size': 100\n",
        "                 })\n",
        "print(r.status, r.data)\n",
        "\n",
        "import json\n",
        "rDict = json.loads(r.data)\n",
        "type(rDict)\n",
        "totalPages = rDict[\"info\"][\"pages\"]"
      ],
      "execution_count": 0,
      "outputs": []
    }
  ]
}