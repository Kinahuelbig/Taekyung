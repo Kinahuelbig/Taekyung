{
  "nbformat": 4,
  "nbformat_minor": 0,
  "metadata": {
    "kernelspec": {
      "display_name": "Python 3",
      "language": "python",
      "name": "python3"
    },
    "language_info": {
      "codemirror_mode": {
        "name": "ipython",
        "version": 3
      },
      "file_extension": ".py",
      "mimetype": "text/x-python",
      "name": "python",
      "nbconvert_exporter": "python",
      "pygments_lexer": "ipython3",
      "version": "3.7.6"
    },
    "colab": {
      "name": "python_list_drills_starter.ipynb",
      "provenance": [],
      "collapsed_sections": [],
      "include_colab_link": true
    }
  },
  "cells": [
    {
      "cell_type": "markdown",
      "metadata": {
        "id": "view-in-github",
        "colab_type": "text"
      },
      "source": [
        "<a href=\"https://colab.research.google.com/github/Kinahuelbig/Taekyung/blob/master/python_list_drills_starter.ipynb\" target=\"_parent\"><img src=\"https://colab.research.google.com/assets/colab-badge.svg\" alt=\"Open In Colab\"/></a>"
      ]
    },
    {
      "cell_type": "markdown",
      "metadata": {
        "id": "g0cXEahEy-ui",
        "colab_type": "text"
      },
      "source": [
        "## 1: `longest_word_length`\n",
        "\n",
        "Create a function called `longest_word` that takes one argument, a list of words, and returns the length of the longest word in the list.\n",
        "\n",
        "For example, `longest_word(['simple', 'is', 'better', 'than', 'complex'])` should return 7 because the longest word there is complex, at 7 characters.\n",
        "\n",
        "Your function should *not* modify the input list."
      ]
    },
    {
      "cell_type": "code",
      "metadata": {
        "id": "RNXNn6U0y-um",
        "colab_type": "code",
        "outputId": "071fd890-9a6b-4191-e885-faf4b4210685",
        "colab": {
          "base_uri": "https://localhost:8080/",
          "height": 34
        }
      },
      "source": [
        "def longest_word(words):\n",
        "  number_of_characters = [len(words)]\n",
        "  return max(number_of_characters)\n",
        "print(longest_word(['simple', 'is', 'better', 'than', 'complex']))"
      ],
      "execution_count": 0,
      "outputs": [
        {
          "output_type": "stream",
          "text": [
            "5\n"
          ],
          "name": "stdout"
        }
      ]
    },
    {
      "cell_type": "markdown",
      "metadata": {
        "id": "h8nxfiscy-uy",
        "colab_type": "text"
      },
      "source": [
        "## 2: `calculate_grade`\n",
        "\n",
        "You're a statistics professor and the deadline for submitting your students' grades is tonight at midnight. Each student's grade is determined by their mean score across all of the tests they took this semester.\n",
        "\n",
        "You've decided to automate grade calculation by writing a function `calculate_grade` that takes a list of test scores as an argument and returns a one character string representing the student's grade calculated as follows:\n",
        "\n",
        "```\n",
        "90% <= mean score <= 100%: \"A\",\n",
        "80% <= mean score < 90%: \"B\",\n",
        "70% <= mean score < 80%: \"C\",\n",
        "60% <= mean score < 70%: \"D\",\n",
        "mean score < 60%: \"F\"\n",
        "```\n",
        "\n",
        "\n",
        "For example, `calculate_grade([92, 94, 99])` would return \"A\" since the mean score is 95, and `calculate_grade([50, 60, 70, 80, 90])` would return \"C\" since the mean score is 70.\n",
        "\n",
        "Your function should handle an input list of any length greater than zero."
      ]
    },
    {
      "cell_type": "code",
      "metadata": {
        "id": "kplel8W1y-uz",
        "colab_type": "code",
        "outputId": "333b98e8-0b61-4518-b6f9-dcd2ad360d5d",
        "colab": {
          "base_uri": "https://localhost:8080/",
          "height": 313
        }
      },
      "source": [
        "score= [92, 94, 99]\n",
        "def calculate_grade (scores):\n",
        "  mean_score = sum(scores)/len(scores)\n",
        "  if mean_Score>=90:\n",
        "    return 'A'\n",
        "  elif mean_score>=80 and mean_score<90:\n",
        "    return 'B'\n",
        "  elif mean_score>=70 and mean_score<80:\n",
        "    return 'C'\n",
        "  elif mean_score>=60 and mean_score<70:\n",
        "    return 'D'\n",
        "  else:\n",
        "    return 'F'\n",
        "print(calculate_grade([92,94,99]))"
      ],
      "execution_count": 0,
      "outputs": [
        {
          "output_type": "error",
          "ename": "NameError",
          "evalue": "ignored",
          "traceback": [
            "\u001b[0;31m---------------------------------------------------------------------------\u001b[0m",
            "\u001b[0;31mNameError\u001b[0m                                 Traceback (most recent call last)",
            "\u001b[0;32m<ipython-input-1-94b4fbaf0650>\u001b[0m in \u001b[0;36m<module>\u001b[0;34m()\u001b[0m\n\u001b[1;32m     12\u001b[0m   \u001b[0;32melse\u001b[0m\u001b[0;34m:\u001b[0m\u001b[0;34m\u001b[0m\u001b[0;34m\u001b[0m\u001b[0m\n\u001b[1;32m     13\u001b[0m     \u001b[0;32mreturn\u001b[0m \u001b[0;34m'F'\u001b[0m\u001b[0;34m\u001b[0m\u001b[0;34m\u001b[0m\u001b[0m\n\u001b[0;32m---> 14\u001b[0;31m \u001b[0mprint\u001b[0m\u001b[0;34m(\u001b[0m\u001b[0mcalculate_grade\u001b[0m\u001b[0;34m(\u001b[0m\u001b[0;34m[\u001b[0m\u001b[0;36m92\u001b[0m\u001b[0;34m,\u001b[0m\u001b[0;36m94\u001b[0m\u001b[0;34m,\u001b[0m\u001b[0;36m99\u001b[0m\u001b[0;34m]\u001b[0m\u001b[0;34m)\u001b[0m\u001b[0;34m)\u001b[0m\u001b[0;34m\u001b[0m\u001b[0;34m\u001b[0m\u001b[0m\n\u001b[0m",
            "\u001b[0;32m<ipython-input-1-94b4fbaf0650>\u001b[0m in \u001b[0;36mcalculate_grade\u001b[0;34m(scores)\u001b[0m\n\u001b[1;32m      2\u001b[0m \u001b[0;32mdef\u001b[0m \u001b[0mcalculate_grade\u001b[0m \u001b[0;34m(\u001b[0m\u001b[0mscores\u001b[0m\u001b[0;34m)\u001b[0m\u001b[0;34m:\u001b[0m\u001b[0;34m\u001b[0m\u001b[0;34m\u001b[0m\u001b[0m\n\u001b[1;32m      3\u001b[0m   \u001b[0mmean_score\u001b[0m \u001b[0;34m=\u001b[0m \u001b[0msum\u001b[0m\u001b[0;34m(\u001b[0m\u001b[0mscores\u001b[0m\u001b[0;34m)\u001b[0m\u001b[0;34m/\u001b[0m\u001b[0mlen\u001b[0m\u001b[0;34m(\u001b[0m\u001b[0mscores\u001b[0m\u001b[0;34m)\u001b[0m\u001b[0;34m\u001b[0m\u001b[0;34m\u001b[0m\u001b[0m\n\u001b[0;32m----> 4\u001b[0;31m   \u001b[0;32mif\u001b[0m \u001b[0mmean_Score\u001b[0m\u001b[0;34m>=\u001b[0m\u001b[0;36m90\u001b[0m\u001b[0;34m:\u001b[0m\u001b[0;34m\u001b[0m\u001b[0;34m\u001b[0m\u001b[0m\n\u001b[0m\u001b[1;32m      5\u001b[0m     \u001b[0;32mreturn\u001b[0m \u001b[0;34m'A'\u001b[0m\u001b[0;34m\u001b[0m\u001b[0;34m\u001b[0m\u001b[0m\n\u001b[1;32m      6\u001b[0m   \u001b[0;32melif\u001b[0m \u001b[0mmean_score\u001b[0m\u001b[0;34m>=\u001b[0m\u001b[0;36m80\u001b[0m \u001b[0;32mand\u001b[0m \u001b[0mmean_score\u001b[0m\u001b[0;34m<\u001b[0m\u001b[0;36m90\u001b[0m\u001b[0;34m:\u001b[0m\u001b[0;34m\u001b[0m\u001b[0;34m\u001b[0m\u001b[0m\n",
            "\u001b[0;31mNameError\u001b[0m: name 'mean_Score' is not defined"
          ]
        }
      ]
    },
    {
      "cell_type": "markdown",
      "metadata": {
        "id": "zVTUZ6bRy-u8",
        "colab_type": "text"
      },
      "source": [
        "## 3: `process_data`\n",
        "\n",
        "You have a two-dimensional list in the following format:\n",
        "\n",
        "```python\n",
        "data = [[2, 5], [3, 4], [8, 7]]\n",
        "```\n",
        "\n",
        "Each sub-list contains two items, and each item in the sub-lists is an integer.\n",
        "\n",
        "Write a function `process_data` that processes each sub-list like so:\n",
        "\n",
        "```\n",
        "[2, 5] --> 2 - 5 --> -3\n",
        "[3, 4] --> 3 - 4 --> -1\n",
        "[8, 7] --> 8 - 7 --> 1\n",
        "```\n",
        "\n",
        "and then returns the product of all the processed sub-lists: -3 * -1 * 1 --> 3.\n",
        "d\n",
        "For input, you can trust that neither the main list nor the sublists will be empty."
      ]
    },
    {
      "cell_type": "code",
      "metadata": {
        "id": "Bz3jNRhvy-u-",
        "colab_type": "code",
        "outputId": "88528e17-2f04-479d-8908-02eb44185e24",
        "colab": {
          "base_uri": "https://localhost:8080/",
          "height": 34
        }
      },
      "source": [
        "data = [[2,5],[3,4],[8,7]]\n",
        "def process_data(data):\n",
        "  first_diff=data[0][0]-data[0][1]\n",
        "  second_diff=data[1][0]-data[1][1]\n",
        "  third_diff=data[2][0]-data[2][1]\n",
        "  prodcessed = first_diff * second_diff * third_diff\n",
        "  return prodcessed\n",
        "print(process_data(data))\n",
        "\n",
        "\n",
        "\n",
        "\n"
      ],
      "execution_count": 0,
      "outputs": [
        {
          "output_type": "stream",
          "text": [
            "3\n"
          ],
          "name": "stdout"
        }
      ]
    },
    {
      "cell_type": "code",
      "metadata": {
        "id": "1yhyLjGP-ARB",
        "colab_type": "code",
        "colab": {}
      },
      "source": [
        ""
      ],
      "execution_count": 0,
      "outputs": []
    }
  ]
}