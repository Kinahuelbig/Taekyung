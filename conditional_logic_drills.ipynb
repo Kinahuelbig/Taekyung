{
  "nbformat": 4,
  "nbformat_minor": 0,
  "metadata": {
    "kernelspec": {
      "display_name": "Python 3",
      "language": "python",
      "name": "python3"
    },
    "language_info": {
      "codemirror_mode": {
        "name": "ipython",
        "version": 3
      },
      "file_extension": ".py",
      "mimetype": "text/x-python",
      "name": "python",
      "nbconvert_exporter": "python",
      "pygments_lexer": "ipython3",
      "version": "3.6.3"
    },
    "colab": {
      "name": "conditional_logic_drills.ipynb",
      "provenance": [],
      "collapsed_sections": [],
      "include_colab_link": true
    }
  },
  "cells": [
    {
      "cell_type": "markdown",
      "metadata": {
        "id": "view-in-github",
        "colab_type": "text"
      },
      "source": [
        "<a href=\"https://colab.research.google.com/github/Kinahuelbig/Taekyung/blob/master/conditional_logic_drills.ipynb\" target=\"_parent\"><img src=\"https://colab.research.google.com/assets/colab-badge.svg\" alt=\"Open In Colab\"/></a>"
      ]
    },
    {
      "cell_type": "markdown",
      "metadata": {
        "id": "27gUDcRqpPRJ",
        "colab_type": "text"
      },
      "source": [
        "## 1:  `take_umbrella`\n",
        "\n",
        "Write a function called `take_umbrella` that takes two arguments: a string representing the current weather and a float representing the chance of rain today.\n",
        "\n",
        "Your function should return `True` or `False` based on the following criteria.\n",
        "\n",
        "You should take an umbrella if it's currently raining or if it's cloudy and the chance of rain is over 0.20.\n",
        "You shouldn't take an umbrella if it's sunny unless it's more likely to rain than not.\n",
        "The options for the current weather are sunny, cloudy, and rainy.\n",
        "\n",
        "For example, `take_umbrella('sunny', 0.40)` should return `False`.\n",
        "\n",
        "As an additional challenge, consider solving this kata using only logical operaters and not using any if statements."
      ]
    },
    {
      "cell_type": "code",
      "metadata": {
        "id": "mVdqhcKg5Aii",
        "colab_type": "code",
        "outputId": "e5e78881-1534-4fde-f9bd-58b5880f2a09",
        "colab": {
          "base_uri": "https://localhost:8080/",
          "height": 34
        }
      },
      "source": [
        " def take_umbrella(weather, chance_of_rain):\n",
        "    if weather == \"raining\":\n",
        "        return True\n",
        "    elif weather == (\"cloudy\") and (chance_of_rain>0.20):\n",
        "        return False\n",
        "    else:\n",
        "        return False\n",
        "take_umbrella(\"sunny\",0.40)"
      ],
      "execution_count": 0,
      "outputs": [
        {
          "output_type": "execute_result",
          "data": {
            "text/plain": [
              "False"
            ]
          },
          "metadata": {
            "tags": []
          },
          "execution_count": 2
        }
      ]
    },
    {
      "cell_type": "markdown",
      "metadata": {
        "id": "TgAW-FA0pPRN",
        "colab_type": "text"
      },
      "source": [
        "## 2: `color probability`\n",
        "\n",
        "You're playing a game with a friend involving a bag of marbles. In the bag are ten marbles:\n",
        "\n",
        "- 1 smooth red marble\n",
        "- 4 bumpy red marbles\n",
        "- 2 bumpy yellow marbles\n",
        "- 1 smooth yellow marble\n",
        "- 1 bumpy green marble\n",
        "- 1 smooth green marble\n",
        "\n",
        "You can see that the probability of picking a smooth red marble from the bag is 1 / 10 or 0.10 and the probability of picking a bumpy yellow marble is 2 / 10 or 0.20.\n",
        "\n",
        "The game works like this: your friend puts her hand in the bag, chooses a marble (without looking at it) and tells you whether it's bumpy or smooth. Then you have to guess which color it is before she pulls it out and reveals whether you're correct or not.\n",
        "\n",
        "You know that the information about whether the marble is bumpy or smooth changes the probability of what color it is, and you want some help with your guesses.\n",
        "\n",
        "Write a function `color_probability` that takes two arguments: a color ('red', 'yellow', or 'green') and a texture ('bumpy' or 'smooth') and returns the probability of drawing that combination as a decimal fraction accurate to two places.\n",
        "\n",
        "The probability should be a string and should discard any digits after the 100ths place. For example, 2 / 3 or 0.6666666666666666 would become the string '0.66'. Note this is different from rounding.\n",
        "\n",
        "As a complete example, color_probability('red', 'bumpy') should return the string '0.57'."
      ]
    },
    {
      "cell_type": "code",
      "metadata": {
        "id": "WsZxZzPhC51M",
        "colab_type": "code",
        "outputId": "59fbec70-460d-490b-be95-b94f0889c1ad",
        "colab": {
          "base_uri": "https://localhost:8080/",
          "height": 34
        }
      },
      "source": [
        "def color_probability(color, texture):\n",
        "    red_smooth = 1\n",
        "    red_bumpy = 4\n",
        "    yello_bumpy = 2\n",
        "    yello_smooth = 1\n",
        "    green_bumpy= 1\n",
        "    green_smooth = 1\n",
        "    return((red_bumpy/(red_bumpy + yello_bumpy + green_bumpy)))\n",
        "print(str(color_probability(\"red\",\"bumpy\"))[0:4])\n",
        "    \n",
        "    "
      ],
      "execution_count": 0,
      "outputs": [
        {
          "output_type": "stream",
          "text": [
            "0.57\n"
          ],
          "name": "stdout"
        }
      ]
    }
  ]
}